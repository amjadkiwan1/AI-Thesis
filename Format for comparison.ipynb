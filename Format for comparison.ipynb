{
 "cells": [
  {
   "cell_type": "code",
   "execution_count": 1,
   "metadata": {},
   "outputs": [
    {
     "data": {
      "text/plain": [
       "'formatted_train_comparison.jsonl'"
      ]
     },
     "execution_count": 1,
     "metadata": {},
     "output_type": "execute_result"
    }
   ],
   "source": [
    "# Load the JSONL file to process it\n",
    "import json\n",
    "\n",
    "# Define the input and output file paths\n",
    "input_file_path = 'formatted_train.jsonl'\n",
    "output_file_path = 'formatted_train_comparison.jsonl'\n",
    "\n",
    "# Process the file to remove the 'text' field\n",
    "with open(input_file_path, 'r') as infile, open(output_file_path, 'w') as outfile:\n",
    "    for line in infile:\n",
    "        data = json.loads(line)\n",
    "        if 'text' in data:\n",
    "            del data['text']\n",
    "        json.dump(data, outfile)\n",
    "        outfile.write('\\n')\n",
    "\n",
    "output_file_path\n"
   ]
  },
  {
   "cell_type": "code",
   "execution_count": 5,
   "metadata": {},
   "outputs": [
    {
     "data": {
      "text/plain": [
       "'formatted_generated_results_fixed_Comparison.jsonl'"
      ]
     },
     "execution_count": 5,
     "metadata": {},
     "output_type": "execute_result"
    }
   ],
   "source": [
    "import pandas as pd\n",
    "\n",
    "# Load the Excel file to convert to JSON format\n",
    "input_excel_path = 'formatted_generated_results_fixed.xlsx'\n",
    "output_json_path = 'formatted_generated_results_fixed_Comparison.jsonl'\n",
    "\n",
    "# Read the Excel file\n",
    "excel_data = pd.read_excel(input_excel_path)\n",
    "\n",
    "# Convert the data to JSON format\n",
    "excel_data.to_json(output_json_path, orient='records', lines=True)\n",
    "\n",
    "output_json_path\n"
   ]
  }
 ],
 "metadata": {
  "kernelspec": {
   "display_name": "Python 3",
   "language": "python",
   "name": "python3"
  },
  "language_info": {
   "codemirror_mode": {
    "name": "ipython",
    "version": 3
   },
   "file_extension": ".py",
   "mimetype": "text/x-python",
   "name": "python",
   "nbconvert_exporter": "python",
   "pygments_lexer": "ipython3",
   "version": "3.12.2"
  }
 },
 "nbformat": 4,
 "nbformat_minor": 2
}
