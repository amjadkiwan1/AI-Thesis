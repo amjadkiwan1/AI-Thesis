{
 "cells": [
  {
   "cell_type": "code",
   "execution_count": 2,
   "metadata": {},
   "outputs": [
    {
     "name": "stdout",
     "output_type": "stream",
     "text": [
      "Parsing complete. Parsed data saved to Parsed_Evaluated_Questions_few_shot.xlsx.\n"
     ]
    }
   ],
   "source": [
    "import pandas as pd\n",
    "\n",
    "# Load the Excel file containing the raw evaluation data\n",
    "file_path = 'Evaluated_Questions_few_shot.xlsx'\n",
    "evaluations_df = pd.read_excel(file_path)\n",
    "\n",
    "# Define the parsing function for the raw evaluation text\n",
    "def parse_criteria_output(raw_output):\n",
    "    # Initialize a dictionary to store parsed data\n",
    "    parsed_data = {}\n",
    "    \n",
    "    # Split the output into lines\n",
    "    lines = raw_output.strip().split(\"\\n\")\n",
    "    \n",
    "    for line in lines:\n",
    "        if line.startswith(\"Criterion:\"):\n",
    "            # Extract Criterion, Grade, and Reason\n",
    "            parts = line.split(\"|\")\n",
    "            criterion = parts[0].replace(\"Criterion:\", \"\").strip()\n",
    "            grade = parts[1].replace(\"Grade:\", \"\").strip()\n",
    "            reason = parts[2].replace(\"Reason:\", \"\").strip()\n",
    "            \n",
    "            # Store in dictionary\n",
    "            parsed_data[f\"{criterion} Grade\"] = grade\n",
    "            parsed_data[f\"{criterion} Reason\"] = reason\n",
    "        elif line.startswith(\"Total Percentage:\"):\n",
    "            # Extract total percentage\n",
    "            total_percentage = line.split(\":\")[1].strip().replace(\"%\", \"\")\n",
    "            parsed_data[\"Total Percentage\"] = total_percentage\n",
    "    \n",
    "    return parsed_data\n",
    "\n",
    "# Apply parsing to each row\n",
    "parsed_evaluations = []\n",
    "for index, row in evaluations_df.iterrows():\n",
    "    raw_output = row.get(\"Raw Evaluation\", \"\")\n",
    "    parsed_data = parse_criteria_output(raw_output)\n",
    "    \n",
    "    # Retain the first 3 columns\n",
    "    parsed_data[\"Question\"] = row[\"Question\"]\n",
    "    parsed_data[\"Choices\"] = row[\"Choices\"]\n",
    "    parsed_data[\"Answer\"] = row[\"Answer\"]\n",
    "    \n",
    "    parsed_evaluations.append(parsed_data)\n",
    "\n",
    "# Convert parsed data to DataFrame\n",
    "parsed_df = pd.DataFrame(parsed_evaluations)\n",
    "\n",
    "# Ensure the first three columns appear at the beginning\n",
    "columns_order = [\"Question\", \"Choices\", \"Answer\"] + [col for col in parsed_df.columns if col not in [\"Question\", \"Choices\", \"Answer\"]]\n",
    "parsed_df = parsed_df[columns_order]\n",
    "\n",
    "# Save the parsed data to a new Excel file\n",
    "output_file_path = 'Parsed_Evaluated_Questions_few_shot.xlsx'\n",
    "parsed_df.to_excel(output_file_path, index=False)\n",
    "\n",
    "print(f\"Parsing complete. Parsed data saved to {output_file_path}.\")\n"
   ]
  }
 ],
 "metadata": {
  "kernelspec": {
   "display_name": "Python 3",
   "language": "python",
   "name": "python3"
  },
  "language_info": {
   "codemirror_mode": {
    "name": "ipython",
    "version": 3
   },
   "file_extension": ".py",
   "mimetype": "text/x-python",
   "name": "python",
   "nbconvert_exporter": "python",
   "pygments_lexer": "ipython3",
   "version": "3.12.2"
  }
 },
 "nbformat": 4,
 "nbformat_minor": 2
}
